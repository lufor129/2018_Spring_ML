{
 "cells": [
  {
   "cell_type": "code",
   "execution_count": 1,
   "metadata": {},
   "outputs": [],
   "source": [
    "import numpy as np\n",
    "import tensorflow as tf\n",
    "import tensorflow.contrib.slim as slim\n",
    "import tensorflow.contrib.slim.python.slim.nets.inception_v3 as inception_v3\n",
    "import matplotlib.pyplot as plt\n",
    "import time"
   ]
  },
  {
   "cell_type": "code",
   "execution_count": 2,
   "metadata": {},
   "outputs": [],
   "source": [
    "def parser(record):\n",
    "    img_features = tf.parse_single_example(\n",
    "            record,\n",
    "            features={ 'Label'    : tf.FixedLenFeature([], tf.int64),\n",
    "                       'image_raw': tf.FixedLenFeature([], tf.string),\n",
    "                       'height':tf.FixedLenFeature([],tf.int64),\n",
    "                       'width':tf.FixedLenFeature([],tf.int64),\n",
    "                       'channel':tf.FixedLenFeature([],tf.int64)})\n",
    "    height = tf.cast(img_features['height'], tf.int64)\n",
    "    width = tf.cast(img_features['width'], tf.int64)\n",
    "    channel = tf.cast(img_features['channel'], tf.int64)\n",
    "#     image_shape = tf.parallel_stack([height, width, channel])\n",
    "    label = tf.cast(img_features['Label'], tf.int64)\n",
    "    \n",
    "    image = tf.decode_raw(img_features['image_raw'], tf.uint8)\n",
    "    image = tf.reshape(image, [299,299,3])\n",
    "#     image.set_shape([299,299,3])\n",
    "    \n",
    "    return image, label"
   ]
  },
  {
   "cell_type": "code",
   "execution_count": 3,
   "metadata": {},
   "outputs": [],
   "source": [
    "def preprocess_for_train(image):\n",
    "    image_data = tf.image.resize_images(image,[299,299],method=0)\n",
    "    image_data = tf.image.random_saturation(image_data,lower=0.3,upper=1.3)\n",
    "    image_data = tf.image.random_brightness(image_data,max_delta=60. /255.) #亮度\n",
    "#     image_data = tf.image.random_contrast(image_data,0.5,1.5)\n",
    "    image_data = tf.image.random_flip_left_right(image_data)\n",
    "    return image_data"
   ]
  },
  {
   "cell_type": "code",
   "execution_count": 4,
   "metadata": {},
   "outputs": [],
   "source": [
    "batch_size = 16\n",
    "train_files = tf.train.match_filenames_once(\"./data/Train.tfrecords\")\n",
    "dataset = tf.data.TFRecordDataset(train_files)\n",
    "dataset = dataset.map(parser)\n",
    "\n",
    "test_files = tf.train.match_filenames_once(\"./data/Train.tfrecords\")\n",
    "test_dataset = tf.data.TFRecordDataset(test_files)\n",
    "test_dataset = test_dataset.map(parser)\n",
    "\n",
    "dataset = dataset.map(\n",
    "    lambda image,label:(\n",
    "        preprocess_for_train(image),label))\n",
    "dataset = dataset.shuffle(2000).batch(batch_size)\n",
    "\n",
    "test_dataset = test_dataset.map(\n",
    "    lambda image,label:(\n",
    "        tf.image.resize_images(image,[299,299],method=0),label))\n",
    "test_dataset = test_dataset.batch(32)"
   ]
  },
  {
   "cell_type": "code",
   "execution_count": 5,
   "metadata": {},
   "outputs": [],
   "source": [
    "def get_tuned_variable():\n",
    "    exclusions = [scope.strip() for scope in CHECKPOINT_EXCLUDE_SCOPES.split(\",\")]\n",
    "    variable_to_restore = []\n",
    "#     slim.get_variables_to_restore()\n",
    "    for var in slim.get_model_variables():\n",
    "        excluded = False\n",
    "        for exclusion in exclusions:\n",
    "            if var.op.name.startswith(exclusion):\n",
    "                excluded = True\n",
    "                break\n",
    "        if not excluded:\n",
    "            variable_to_restore.append(var)\n",
    "    return variable_to_restore\n",
    "\n",
    "def get_trainable_variable():\n",
    "    scopes = [scope.strip() for scope in TRAINBLE_SCOPES.split(\",\")]\n",
    "    variable_to_train = []\n",
    "    for scope in scopes:\n",
    "        variables = tf.get_collection(tf.GraphKeys.TRAINABLE_VARIABLES,scope)\n",
    "        variable_to_train.append(variables)\n",
    "    return variable_to_train"
   ]
  },
  {
   "cell_type": "code",
   "execution_count": 6,
   "metadata": {},
   "outputs": [],
   "source": [
    "NUM_EPOCH = 70\n",
    "dataset = dataset.repeat(NUM_EPOCH)\n",
    "Label_size = 830\n",
    "\n",
    "iterator = dataset.make_initializable_iterator()\n",
    "image_batch,label_batch = iterator.get_next()\n",
    "\n",
    "test_iterator = test_dataset.make_initializable_iterator()\n",
    "test_image_batch,test_label_batch = test_iterator.get_next()\n",
    "\n",
    "learning_rate = 0.0001"
   ]
  },
  {
   "cell_type": "code",
   "execution_count": 7,
   "metadata": {},
   "outputs": [],
   "source": [
    "CKPT_FILE = \"inception_v3.ckpt\"\n",
    "\n",
    "CHECKPOINT_EXCLUDE_SCOPES = \"InceptionV3/Logits,InceptionV3/AuxLogits\"\n",
    "\n",
    "TRAINBLE_SCOPES = \"InceptionV3/Logits,InceptionV3/AuxLogits\"\n",
    "\n",
    "tf.reset_default_graph() \n",
    "\n",
    "initializer = tf.contrib.layers.xavier_initializer()\n",
    "def weight_variable(shape):\n",
    "    return tf.Variable(initializer(shape))\n",
    "\n",
    "def bias_variable(shape):\n",
    "    return tf.Variable(initializer(shape))\n",
    "\n",
    "def conv2d(x,W):\n",
    "    return tf.nn.conv2d(x,W,strides=[1,1,1,1],padding=\"SAME\")\n",
    "\n",
    "def max_pool(x):\n",
    "    return tf.nn.max_pool(x,ksize=[1,4,4,1],strides=[1,4,4,1],padding=\"SAME\")\n",
    "\n",
    "x = tf.placeholder(tf.float32,[None,299,299,3],name='input_x')\n",
    "y = tf.placeholder(tf.int32,[None],name=\"input_y\")\n",
    "image_labels = tf.one_hot(y,Label_size)\n",
    "\n",
    "with slim.arg_scope(inception_v3.inception_v3_arg_scope()):\n",
    "    logits,_ = inception_v3.inception_v3(x,num_classes=Label_size)\n",
    "\n",
    "logits = tf.identity(logits, name='logits')\n",
    "trainable_variable = get_trainable_variable()\n",
    "\n",
    "\n",
    "with tf.name_scope(\"loss\"):\n",
    "    loss = tf.reduce_mean(tf.nn.softmax_cross_entropy_with_logits_v2(labels=image_labels,logits=logits))\n",
    "    tf.summary.scalar('loss',loss)\n",
    "with tf.name_scope('train'):\n",
    "#     train_step = tf.train.GradientDescentOptimizer(0.5).minimize(loss)\n",
    "    train_step = tf.train.AdamOptimizer(learning_rate).minimize(loss)\n",
    "\n",
    "with tf.name_scope('evaluation'):\n",
    "    with tf.name_scope('correct_prediction'): \n",
    "        prediction = tf.argmax(logits,1,name=\"prediction\")\n",
    "        correct_prediction = tf.equal(tf.argmax(logits,1),tf.argmax(image_labels,1))\n",
    "    with tf.name_scope('accuracy'):\n",
    "        accuracy = tf.reduce_mean(tf.cast(correct_prediction,tf.float32), name='accuracy')\n",
    "        tf.summary.scalar('accuracy',accuracy)\n",
    "        \n",
    "load_fn = slim.assign_from_checkpoint_fn(\n",
    "    CKPT_FILE,\n",
    "    get_tuned_variable(),\n",
    "    ignore_missing_vars=True\n",
    ")\n",
    "\n",
    "tf.add_to_collection('pred_network', prediction)\n",
    "merged = tf.summary.merge_all()"
   ]
  },
  {
   "cell_type": "code",
   "execution_count": 8,
   "metadata": {},
   "outputs": [
    {
     "name": "stdout",
     "output_type": "stream",
     "text": [
      "INFO:tensorflow:Restoring parameters from inception_v3.ckpt\n",
      "Iter 0,train_acc 0.000000 train_loss 7.371699 test_acc 0.002287 test_loss 7.005661\n",
      "Iter 100,train_acc 0.000000 train_loss 7.359416 test_acc 0.005335 test_loss 6.648420\n",
      "Iter 200,train_acc 0.003125 train_loss 6.736683 test_acc 0.009146 test_loss 6.438189\n",
      "Iter 300,train_acc 0.004375 train_loss 6.622713 test_acc 0.009146 test_loss 6.236151\n",
      "Iter 400,train_acc 0.001250 train_loss 6.479763 test_acc 0.026677 test_loss 5.993959\n",
      "Iter 500,train_acc 0.006250 train_loss 6.283617 test_acc 0.033883 test_loss 5.738375\n",
      "Iter 600,train_acc 0.008750 train_loss 6.106936 test_acc 0.042614 test_loss 5.463283\n",
      "Iter 700,train_acc 0.011875 train_loss 5.909225 test_acc 0.057511 test_loss 5.253594\n",
      "Iter 800,train_acc 0.015625 train_loss 5.739325 test_acc 0.080308 test_loss 4.997653\n",
      "Iter 900,train_acc 0.033125 train_loss 5.519934 test_acc 0.097492 test_loss 4.714389\n",
      "Iter 1000,train_acc 0.036250 train_loss 5.246455 test_acc 0.109340 test_loss 4.533356\n",
      "Iter 1100,train_acc 0.054167 train_loss 5.057945 test_acc 0.135601 test_loss 4.301768\n",
      "Iter 1200,train_acc 0.062917 train_loss 4.893037 test_acc 0.177453 test_loss 4.032652\n",
      "Iter 1300,train_acc 0.058750 train_loss 4.787582 test_acc 0.227273 test_loss 3.828826\n",
      "Iter 1400,train_acc 0.095417 train_loss 4.535375 test_acc 0.260116 test_loss 3.634187\n",
      "Iter 1500,train_acc 0.126875 train_loss 4.263521 test_acc 0.307650 test_loss 3.398531\n",
      "Iter 1600,train_acc 0.155625 train_loss 4.077470 test_acc 0.363013 test_loss 3.206723\n",
      "Iter 1700,train_acc 0.141250 train_loss 3.971354 test_acc 0.398282 test_loss 3.015354\n",
      "Iter 1800,train_acc 0.215000 train_loss 3.756799 test_acc 0.466463 test_loss 2.782695\n",
      "Iter 1900,train_acc 0.254375 train_loss 3.523321 test_acc 0.493140 test_loss 2.611226\n",
      "Iter 2000,train_acc 0.282708 train_loss 3.344817 test_acc 0.486073 test_loss 2.497838\n",
      "Iter 2100,train_acc 0.286875 train_loss 3.296654 test_acc 0.548088 test_loss 2.327307\n",
      "Iter 2200,train_acc 0.331250 train_loss 3.119659 test_acc 0.629504 test_loss 2.110392\n",
      "Iter 2300,train_acc 0.400417 train_loss 2.836449 test_acc 0.654241 test_loss 1.966435\n",
      "Iter 2400,train_acc 0.443958 train_loss 2.678598 test_acc 0.674404 test_loss 1.818798\n",
      "Iter 2500,train_acc 0.493125 train_loss 2.475542 test_acc 0.728035 test_loss 1.589701\n",
      "Iter 2600,train_acc 0.499375 train_loss 2.394825 test_acc 0.742239 test_loss 1.536329\n",
      "Iter 2700,train_acc 0.493750 train_loss 2.382213 test_acc 0.799335 test_loss 1.341587\n",
      "Iter 2800,train_acc 0.562292 train_loss 2.159025 test_acc 0.795108 test_loss 1.311373\n",
      "Iter 2900,train_acc 0.589792 train_loss 1.986569 test_acc 0.820676 test_loss 1.145538\n",
      "Iter 3000,train_acc 0.638542 train_loss 1.815447 test_acc 0.847630 test_loss 1.032431\n",
      "Iter 3100,train_acc 0.667917 train_loss 1.709945 test_acc 0.875069 test_loss 0.919640\n",
      "Iter 3200,train_acc 0.699583 train_loss 1.607489 test_acc 0.882345 test_loss 0.871786\n",
      "Iter 3300,train_acc 0.745000 train_loss 1.398030 test_acc 0.906319 test_loss 0.750928\n",
      "Iter 3400,train_acc 0.760417 train_loss 1.325636 test_acc 0.912763 test_loss 0.677740\n",
      "Iter 3500,train_acc 0.765833 train_loss 1.274243 test_acc 0.921979 test_loss 0.613105\n",
      "Iter 3600,train_acc 0.798750 train_loss 1.132392 test_acc 0.940272 test_loss 0.526121\n",
      "Iter 3700,train_acc 0.812292 train_loss 1.093534 test_acc 0.929532 test_loss 0.565249\n",
      "Iter 3800,train_acc 0.856458 train_loss 0.944790 test_acc 0.944775 test_loss 0.450191\n",
      "Iter 3900,train_acc 0.842708 train_loss 0.938496 test_acc 0.955446 test_loss 0.400199\n",
      "Iter 4000,train_acc 0.861250 train_loss 0.827763 test_acc 0.968819 test_loss 0.342889\n",
      "Iter 4100,train_acc 0.867292 train_loss 0.818530 test_acc 0.962306 test_loss 0.347164\n",
      "Iter 4200,train_acc 0.887083 train_loss 0.742340 test_acc 0.978659 test_loss 0.276922\n",
      "Iter 4300,train_acc 0.896250 train_loss 0.657735 test_acc 0.970344 test_loss 0.257011\n",
      "Iter 4400,train_acc 0.910208 train_loss 0.607405 test_acc 0.984825 test_loss 0.218025\n",
      "Iter 4500,train_acc 0.919375 train_loss 0.555916 test_acc 0.979836 test_loss 0.202608\n",
      "Iter 4600,train_acc 0.925208 train_loss 0.521686 test_acc 0.991616 test_loss 0.172834\n",
      "Iter 4700,train_acc 0.947292 train_loss 0.434762 test_acc 0.987043 test_loss 0.169367\n",
      "Iter 4800,train_acc 0.954375 train_loss 0.405313 test_acc 0.989329 test_loss 0.139005\n",
      "Iter 4900,train_acc 0.943750 train_loss 0.416427 test_acc 0.990507 test_loss 0.131604\n",
      "Iter 5000,train_acc 0.942292 train_loss 0.427002 test_acc 0.994665 test_loss 0.126135\n",
      "Iter 5100,train_acc 0.963333 train_loss 0.346013 test_acc 0.994665 test_loss 0.107082\n",
      "Iter 5200,train_acc 0.951250 train_loss 0.329156 test_acc 0.991616 test_loss 0.103363\n",
      "Iter 5300,train_acc 0.971875 train_loss 0.267160 test_acc 0.991269 test_loss 0.097514\n",
      "Iter 5400,train_acc 0.951875 train_loss 0.318470 test_acc 0.996189 test_loss 0.084642\n",
      "Iter 5500,train_acc 0.964375 train_loss 0.285348 test_acc 0.991616 test_loss 0.090634\n",
      "Iter 5600,train_acc 0.973333 train_loss 0.230346 test_acc 0.993902 test_loss 0.082653\n",
      "Iter 5700,train_acc 0.971875 train_loss 0.233603 test_acc 0.993556 test_loss 0.075806\n",
      "Done\n"
     ]
    }
   ],
   "source": [
    "logs_dir = str(int(time.time()))\n",
    "with tf.Session() as sess:\n",
    "    load_fn(sess)\n",
    "    sess.run(tf.global_variables_initializer())\n",
    "    sess.run(tf.local_variables_initializer())\n",
    "    sess.run(iterator.initializer)\n",
    "    save_model_path = 'logs/'+logs_dir+'/model/TransferModel.cpkt'\n",
    "    train_writer = tf.summary.FileWriter('logs/'+logs_dir+'/train',sess.graph)\n",
    "    test_writer = tf.summary.FileWriter('logs/'+logs_dir+'/test',sess.graph)\n",
    "    \n",
    "    count = 0\n",
    "    train_t_acc = []\n",
    "    train_t_loss = []\n",
    "    test_t_acc = []\n",
    "    test_t_loss = []\n",
    "    train_acc = []\n",
    "    train_loss = []\n",
    "    while True:\n",
    "        try:\n",
    "            image,label = sess.run([image_batch,label_batch])\n",
    "            _,train_acctemp,train_losstemp,summary = sess.run([train_step,accuracy,loss,merged], feed_dict={x: image, y: label})\n",
    "            train_acc.append(train_acctemp)\n",
    "            train_loss.append(train_losstemp)\n",
    "            train_writer.add_summary(summary,count)\n",
    "            if count % 100 == 0:\n",
    "                sess.run(test_iterator.initializer)\n",
    "                test_acc = []\n",
    "                test_loss = []\n",
    "                while True:\n",
    "                    try:\n",
    "                        test_image,test_label = sess.run([test_image_batch,test_label_batch])\n",
    "                        test_acctemp,test_losstemp = sess.run([accuracy,loss],feed_dict={x: test_image,y:test_label})\n",
    "                        test_acc.append(test_acctemp)\n",
    "                        test_loss.append(test_losstemp)\n",
    "                    except:\n",
    "                        train_p_acc = np.mean(train_acc)\n",
    "                        train_p_loss = np.mean(train_loss) \n",
    "                        test_p_acc = np.mean(test_acc)\n",
    "                        test_p_loss = np.mean(test_loss)\n",
    "                        test_summary = tf.Summary()\n",
    "                        test_summary.value.add(tag=\"loss/loss\", simple_value=test_p_loss)\n",
    "                        test_summary.value.add(tag=\"evaluation/accuracy/accuracy\",simple_value=test_p_acc)\n",
    "                        test_writer.add_summary(test_summary,count)\n",
    "                        print('Iter %d,train_acc %f train_loss %f test_acc %f test_loss %f' % (count,train_p_acc,train_p_loss,test_p_acc,test_p_loss))\n",
    "                        train_t_acc.append(train_p_acc)\n",
    "                        train_t_loss.append(train_p_loss)\n",
    "                        test_t_acc.append(test_p_acc)\n",
    "                        test_t_loss.append(test_p_loss)\n",
    "                        train_acc = []\n",
    "                        train_loss = []\n",
    "                        break\n",
    "            count+=1\n",
    "        except :\n",
    "            \n",
    "            saver = tf.train.Saver()\n",
    "            save_path = saver.save(sess, save_model_path)\n",
    "            print(\"Done\")\n",
    "            break"
   ]
  },
  {
   "cell_type": "markdown",
   "metadata": {},
   "source": [
    "* LOSS 下降速度太慢(Learning rate 過小)，缺Training_acc,Training_loss，沒畫圖。 之後更新"
   ]
  },
  {
   "cell_type": "code",
   "execution_count": 10,
   "metadata": {},
   "outputs": [
    {
     "data": {
      "image/png": "[encoded data removed]",
      "text/plain": [
       "<Figure size 432x288 with 1 Axes>"
      ]
     },
     "metadata": {
      "needs_background": "light"
     },
     "output_type": "display_data"
    }
   ],
   "source": [
    "%matplotlib inline\n",
    "x = np.arange(0, 58, 1)\n",
    "\n",
    " \n",
    "plt.plot(x*10, train_t_acc, label=\"train_acc\")\n",
    "plt.plot(x*10, test_t_acc, label=\"test_acc\")\n",
    " \n",
    "plt.legend(loc=0, ncol=1) \n",
    " \n",
    "plt.show()"
   ]
  },
  {
   "cell_type": "code",
   "execution_count": 11,
   "metadata": {},
   "outputs": [
    {
     "data": {
      "image/png": "[encoded data removed]",
      "text/plain": [
       "<Figure size 432x288 with 1 Axes>"
      ]
     },
     "metadata": {
      "needs_background": "light"
     },
     "output_type": "display_data"
    }
   ],
   "source": [
    "%matplotlib inline\n",
    "x = np.arange(0, 58, 1)\n",
    "\n",
    " \n",
    "plt.plot(x*10, train_t_loss, label=\"train_loss\")\n",
    "plt.plot(x*10, test_t_loss, label=\"test_loss\")\n",
    " \n",
    "plt.legend(loc=0, ncol=1) \n",
    " \n",
    "plt.show()"
   ]
  },
  {
   "cell_type": "code",
   "execution_count": null,
   "metadata": {},
   "outputs": [],
   "source": []
  }
 ],
 "metadata": {
  "kernelspec": {
   "display_name": "Python 3",
   "language": "python",
   "name": "python3"
  },
  "language_info": {
   "codemirror_mode": {
    "name": "ipython",
    "version": 3
   },
   "file_extension": ".py",
   "mimetype": "text/x-python",
   "name": "python",
   "nbconvert_exporter": "python",
   "pygments_lexer": "ipython3",
   "version": "3.6.6"
  }
 },
 "nbformat": 4,
 "nbformat_minor": 2
}
