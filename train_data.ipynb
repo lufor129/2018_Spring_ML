{
 "cells": [
  {
   "cell_type": "code",
   "execution_count": 1,
   "metadata": {},
   "outputs": [],
   "source": [
    "import numpy as np\n",
    "import tensorflow as tf\n",
    "import tensorflow.contrib.slim as slim\n",
    "import tensorflow.contrib.slim.python.slim.nets.inception_v3 as inception_v3\n",
    "import matplotlib.pyplot as plt\n",
    "import time"
   ]
  },
  {
   "cell_type": "code",
   "execution_count": 2,
   "metadata": {},
   "outputs": [],
   "source": [
    "def parser(record):\n",
    "    img_features = tf.parse_single_example(\n",
    "            record,\n",
    "            features={ 'Label'    : tf.FixedLenFeature([], tf.int64),\n",
    "                       'image_raw': tf.FixedLenFeature([], tf.string),\n",
    "                       'height':tf.FixedLenFeature([],tf.int64),\n",
    "                       'width':tf.FixedLenFeature([],tf.int64),\n",
    "                       'channel':tf.FixedLenFeature([],tf.int64)})\n",
    "    height = tf.cast(img_features['height'], tf.int64)\n",
    "    width = tf.cast(img_features['width'], tf.int64)\n",
    "    channel = tf.cast(img_features['channel'], tf.int64)\n",
    "#     image_shape = tf.parallel_stack([height, width, channel])\n",
    "    label = tf.cast(img_features['Label'], tf.int64)\n",
    "    \n",
    "    image = tf.decode_raw(img_features['image_raw'], tf.uint8)\n",
    "    image = tf.reshape(image, [299,299,3])\n",
    "#     image.set_shape([299,299,3])\n",
    "    \n",
    "    return image, label"
   ]
  },
  {
   "cell_type": "code",
   "execution_count": 3,
   "metadata": {},
   "outputs": [],
   "source": [
    "def preprocess_for_train(image):\n",
    "    image_data = tf.image.resize_images(image,[299,299],method=0)\n",
    "    image_data = tf.image.random_saturation(image_data,lower=0.3,upper=1.3)\n",
    "    image_data = tf.image.random_brightness(image_data,max_delta=60. /255.) #亮度\n",
    "#     image_data = tf.image.random_contrast(image_data,0.5,1.5)\n",
    "    image_data = tf.image.random_flip_left_right(image_data)\n",
    "    return image_data"
   ]
  },
  {
   "cell_type": "code",
   "execution_count": 4,
   "metadata": {},
   "outputs": [],
   "source": [
    "batch_size = 16\n",
    "train_files = tf.train.match_filenames_once(\"./data/Train.tfrecords\")\n",
    "dataset = tf.data.TFRecordDataset(train_files)\n",
    "dataset = dataset.map(parser)\n",
    "\n",
    "test_files = tf.train.match_filenames_once(\"./data/Train.tfrecords\")\n",
    "test_dataset = tf.data.TFRecordDataset(test_files)\n",
    "test_dataset = test_dataset.map(parser)\n",
    "\n",
    "dataset = dataset.map(\n",
    "    lambda image,label:(\n",
    "        preprocess_for_train(image),label))\n",
    "dataset = dataset.shuffle(2000).batch(batch_size)\n",
    "\n",
    "test_dataset = test_dataset.map(\n",
    "    lambda image,label:(\n",
    "        tf.image.resize_images(image,[299,299],method=0),label))\n",
    "test_dataset = test_dataset.batch(32)"
   ]
  },
  {
   "cell_type": "code",
   "execution_count": 5,
   "metadata": {},
   "outputs": [],
   "source": [
    "def get_tuned_variable():\n",
    "    exclusions = [scope.strip() for scope in CHECKPOINT_EXCLUDE_SCOPES.split(\",\")]\n",
    "    variable_to_restore = []\n",
    "#     slim.get_variables_to_restore()\n",
    "    for var in slim.get_model_variables():\n",
    "        excluded = False\n",
    "        for exclusion in exclusions:\n",
    "            if var.op.name.startswith(exclusion):\n",
    "                excluded = True\n",
    "                break\n",
    "        if not excluded:\n",
    "            variable_to_restore.append(var)\n",
    "    return variable_to_restore\n",
    "\n",
    "def get_trainable_variable():\n",
    "    scopes = [scope.strip() for scope in TRAINBLE_SCOPES.split(\",\")]\n",
    "    variable_to_train = []\n",
    "    for scope in scopes:\n",
    "        variables = tf.get_collection(tf.GraphKeys.TRAINABLE_VARIABLES,scope)\n",
    "        variable_to_train.append(variables)\n",
    "    return variable_to_train"
   ]
  },
  {
   "cell_type": "code",
   "execution_count": 6,
   "metadata": {},
   "outputs": [],
   "source": [
    "NUM_EPOCH = 5\n",
    "dataset = dataset.repeat(NUM_EPOCH)\n",
    "Label_size = 830\n",
    "\n",
    "iterator = dataset.make_initializable_iterator()\n",
    "image_batch,label_batch = iterator.get_next()\n",
    "\n",
    "test_iterator = test_dataset.make_initializable_iterator()\n",
    "test_image_batch,test_label_batch = test_iterator.get_next()\n",
    "\n",
    "learning_rate = 0.0001"
   ]
  },
  {
   "cell_type": "code",
   "execution_count": 7,
   "metadata": {},
   "outputs": [],
   "source": [
    "CKPT_FILE = \"inception_v3.ckpt\"\n",
    "\n",
    "CHECKPOINT_EXCLUDE_SCOPES = \"InceptionV3/Logits,InceptionV3/AuxLogits\"\n",
    "\n",
    "TRAINBLE_SCOPES = \"InceptionV3/Logits,InceptionV3/AuxLogits\"\n",
    "\n",
    "#tf.reset_default_graph() \n",
    "\n",
    "# initializer = tf.contrib.layers.xavier_initializer()\n",
    "# def weight_variable(shape):\n",
    "#     return tf.Variable(initializer(shape))\n",
    "\n",
    "# def bias_variable(shape):\n",
    "#     return tf.Variable(initializer(shape))\n",
    "\n",
    "# def conv2d(x,W):\n",
    "#     return tf.nn.conv2d(x,W,strides=[1,1,1,1],padding=\"SAME\")\n",
    "\n",
    "# def max_pool(x):\n",
    "#     return tf.nn.max_pool(x,ksize=[1,4,4,1],strides=[1,4,4,1],padding=\"SAME\")\n",
    "\n",
    "x = tf.placeholder(tf.float32,[None,299,299,3],name='input_x')\n",
    "y = tf.placeholder(tf.int32,[None],name=\"input_y\")\n",
    "image_labels = tf.one_hot(y,Label_size)\n",
    "\n",
    "with slim.arg_scope(inception_v3.inception_v3_arg_scope()):\n",
    "    logits,_ = inception_v3.inception_v3(x,num_classes=Label_size)\n",
    "\n",
    "trainable_variable = get_trainable_variable()\n",
    "\n",
    "\n",
    "with tf.name_scope(\"loss\"):\n",
    "    loss = tf.reduce_mean(tf.nn.softmax_cross_entropy_with_logits_v2(labels=image_labels,logits=logits))\n",
    "    tf.summary.scalar('loss',loss)\n",
    "with tf.name_scope('train'):\n",
    "#     train_step = tf.train.GradientDescentOptimizer(0.5).minimize(loss)\n",
    "    train_step = tf.train.AdamOptimizer(learning_rate).minimize(loss)\n",
    "\n",
    "with tf.name_scope('evaluation'):\n",
    "    with tf.name_scope('correct_prediction'): \n",
    "        prediction = tf.argmax(logits,1)\n",
    "        correct_prediction = tf.equal(tf.argmax(logits,1),tf.argmax(image_labels,1))\n",
    "    with tf.name_scope('accuracy'):\n",
    "        accuracy = tf.reduce_mean(tf.cast(correct_prediction,tf.float32))\n",
    "        tf.summary.scalar('accuracy',accuracy)\n",
    "        \n",
    "load_fn = slim.assign_from_checkpoint_fn(\n",
    "    CKPT_FILE,\n",
    "    get_tuned_variable(),\n",
    "    ignore_missing_vars=True\n",
    ")\n",
    "\n",
    "tf.add_to_collection('pred_network', prediction)\n",
    "merged = tf.summary.merge_all()"
   ]
  },
  {
   "cell_type": "code",
   "execution_count": 8,
   "metadata": {},
   "outputs": [
    {
     "name": "stdout",
     "output_type": "stream",
     "text": [
      "INFO:tensorflow:Restoring parameters from inception_v3.ckpt\n",
      "Iter 0,train_acc 0.000000 train_loss 6.986359 test_acc 0.002287 test_loss 6.988618\n",
      "Iter 100,train_acc 0.000000 train_loss 7.328002 test_acc 0.008384 test_loss 6.673535\n",
      "Iter 200,train_acc 0.006250 train_loss 6.750062 test_acc 0.010671 test_loss 6.419504\n",
      "Iter 300,train_acc 0.003125 train_loss 6.585016 test_acc 0.019055 test_loss 6.222939\n",
      "Iter 400,train_acc 0.004375 train_loss 6.438353 test_acc 0.018293 test_loss 5.978044\n",
      "Done\n"
     ]
    }
   ],
   "source": [
    "logs_dir = str(int(time.time()))\n",
    "with tf.Session() as sess:\n",
    "    load_fn(sess)\n",
    "    sess.run(tf.global_variables_initializer())\n",
    "    sess.run(tf.local_variables_initializer())\n",
    "    sess.run(iterator.initializer)\n",
    "    save_model_path = 'logs/'+logs_dir+'/model/TransferModel'\n",
    "    train_writer = tf.summary.FileWriter('logs/'+logs_dir+'/train',sess.graph)\n",
    "    test_writer = tf.summary.FileWriter('logs/'+logs_dir+'/test',sess.graph)\n",
    "    \n",
    "    count = 0\n",
    "    train_t_acc = []\n",
    "    train_t_loss = []\n",
    "    test_t_acc = []\n",
    "    test_t_loss = []\n",
    "    train_acc = []\n",
    "    train_loss = []\n",
    "    while True:\n",
    "        try:\n",
    "            image,label = sess.run([image_batch,label_batch])\n",
    "            _,train_acctemp,train_losstemp,summary = sess.run([train_step,accuracy,loss,merged], feed_dict={x: image, y: label})\n",
    "            train_acc.append(train_acctemp)\n",
    "            train_loss.append(train_losstemp)\n",
    "            train_writer.add_summary(summary,count)\n",
    "            if count % 100 == 0:\n",
    "                sess.run(test_iterator.initializer)\n",
    "                test_acc = []\n",
    "                test_loss = []\n",
    "                while True:\n",
    "                    try:\n",
    "                        test_image,test_label = sess.run([test_image_batch,test_label_batch])\n",
    "                        test_acctemp,test_losstemp = sess.run([accuracy,loss],feed_dict={x: test_image,y:test_label})\n",
    "                        test_acc.append(test_acctemp)\n",
    "                        test_loss.append(test_losstemp)\n",
    "                    except:\n",
    "                        train_p_acc = np.mean(train_acc)\n",
    "                        train_p_loss = np.mean(train_loss) \n",
    "                        test_p_acc = np.mean(test_acc)\n",
    "                        test_p_loss = np.mean(test_loss)\n",
    "                        test_summary = tf.Summary()\n",
    "                        test_summary.value.add(tag=\"loss/loss\", simple_value=test_p_loss)\n",
    "                        test_summary.value.add(tag=\"evaluation/accuracy/accuracy\",simple_value=test_p_acc)\n",
    "                        test_writer.add_summary(test_summary,count)\n",
    "                        print('Iter %d,train_acc %f train_loss %f test_acc %f test_loss %f' % (count,train_p_acc,train_p_loss,test_p_acc,test_p_loss))\n",
    "                        train_t_acc.append(train_p_acc)\n",
    "                        train_t_loss.append(train_p_loss)\n",
    "                        test_t_acc.append(test_p_acc)\n",
    "                        test_t_loss.append(test_p_loss)\n",
    "                        train_acc = []\n",
    "                        train_loss = []\n",
    "                        break\n",
    "            count+=1\n",
    "        except :\n",
    "            saver = tf.train.Saver()\n",
    "            save_path = saver.save(sess, save_model_path)\n",
    "            print(\"Done\")\n",
    "            break"
   ]
  },
  {
   "cell_type": "markdown",
   "metadata": {},
   "source": [
    "* LOSS 下降速度太慢(Learning rate 過小)，缺Training_acc,Training_loss，沒畫圖。 之後更新"
   ]
  },
  {
   "cell_type": "code",
   "execution_count": 14,
   "metadata": {},
   "outputs": [
    {
     "name": "stdout",
     "output_type": "stream",
     "text": [
      "81 81\n"
     ]
    },
    {
     "data": {
      "image/png": "[encoded data removed]",
      "text/plain": [
       "<Figure size 432x288 with 1 Axes>"
      ]
     },
     "metadata": {
      "needs_background": "light"
     },
     "output_type": "display_data"
    }
   ],
   "source": [
    "%matplotlib inline\n",
    "x = np.arange(0, 81, 1)\n",
    "\n",
    " \n",
    "plt.plot(x*10, train_t_acc, label=\"train_acc\")\n",
    "plt.plot(x*10, test_t_acc, label=\"test_acc\")\n",
    " \n",
    "plt.legend(loc=0, ncol=1) \n",
    " \n",
    "plt.show()"
   ]
  },
  {
   "cell_type": "code",
   "execution_count": 15,
   "metadata": {},
   "outputs": [
    {
     "data": {
      "image/png": "[encoded data removed]",
      "text/plain": [
       "<Figure size 432x288 with 1 Axes>"
      ]
     },
     "metadata": {
      "needs_background": "light"
     },
     "output_type": "display_data"
    }
   ],
   "source": [
    "%matplotlib inline\n",
    "x = np.arange(0, 81, 1)\n",
    "\n",
    " \n",
    "plt.plot(x*10, train_t_loss, label=\"train_loss\")\n",
    "plt.plot(x*10, test_t_loss, label=\"test_loss\")\n",
    " \n",
    "plt.legend(loc=0, ncol=1) \n",
    " \n",
    "plt.show()"
   ]
  },
  {
   "cell_type": "code",
   "execution_count": null,
   "metadata": {},
   "outputs": [],
   "source": []
  }
 ],
 "metadata": {
  "kernelspec": {
   "display_name": "Python 3",
   "language": "python",
   "name": "python3"
  },
  "language_info": {
   "codemirror_mode": {
    "name": "ipython",
    "version": 3
   },
   "file_extension": ".py",
   "mimetype": "text/x-python",
   "name": "python",
   "nbconvert_exporter": "python",
   "pygments_lexer": "ipython3",
   "version": "3.6.6"
  }
 },
 "nbformat": 4,
 "nbformat_minor": 2
}
