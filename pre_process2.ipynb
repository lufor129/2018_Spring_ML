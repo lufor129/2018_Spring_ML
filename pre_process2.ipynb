{
 "cells": [
  {
   "cell_type": "code",
   "execution_count": 1,
   "metadata": {},
   "outputs": [],
   "source": [
    "import tensorflow as tf\n",
    "import os\n",
    "import numpy as np\n",
    "import cv2\n",
    "import json"
   ]
  },
  {
   "cell_type": "code",
   "execution_count": 2,
   "metadata": {},
   "outputs": [],
   "source": [
    "def get_File(file_dir):\n",
    "    images = []\n",
    "    subfolders = []\n",
    "    dict_A = {}\n",
    "\n",
    "    for dirPath, dirNames, fileNames in os.walk(file_dir):\n",
    "        for name in fileNames:\n",
    "            images.append(os.path.join(dirPath, name))\n",
    "            name = name.split(\"_\")[0]\n",
    "            dict_A[name+\"_\"] = 0\n",
    "\n",
    "        for name in dirNames:\n",
    "            subfolders.append(os.path.join(dirPath, name))\n",
    "\n",
    "    # To record the labels of the image dataset\n",
    "    labels = []\n",
    "    count = 0\n",
    "    for a_folder in subfolders:\n",
    "        n_img = len(os.listdir(a_folder))\n",
    "        labels = np.append(labels, n_img * [count])\n",
    "        name = a_folder.split('\\\\')[-1]\n",
    "        dict_A[name] = count\n",
    "        \n",
    "        count+=1\n",
    "\n",
    "    subfolders = np.array([images, labels])\n",
    "    subfolders = subfolders.transpose()\n",
    "\n",
    "    image_list = list(subfolders[:, 0])\n",
    "    label_list = list(subfolders[:, 1])\n",
    "    label_list = [int(float(i)) for i in label_list]\n",
    "    \n",
    "    state = np.random.get_state()\n",
    "    np.random.shuffle(image_list)\n",
    "    np.random.set_state(state)\n",
    "    np.random.shuffle(label_list)\n",
    "    with open('CompareChart2.json', 'w') as f:\n",
    "        json.dump(dict_A, f)\n",
    "    \n",
    "    return image_list, label_list"
   ]
  },
  {
   "cell_type": "code",
   "execution_count": 3,
   "metadata": {},
   "outputs": [
    {
     "name": "stdout",
     "output_type": "stream",
     "text": [
      "1302\n"
     ]
    }
   ],
   "source": [
    "image_list, label_list = get_File(\"pic\")\n",
    "print(len(image_list))"
   ]
  },
  {
   "cell_type": "code",
   "execution_count": 4,
   "metadata": {},
   "outputs": [],
   "source": [
    "def int64_feature(value):\n",
    "    if not isinstance(value, list):\n",
    "        value = [value]\n",
    "    return tf.train.Feature(int64_list=tf.train.Int64List(value=value))\n",
    "\n",
    "# 轉Bytes資料為 tf.train.Feature 格式\n",
    "def bytes_feature(value):\n",
    "    return tf.train.Feature(bytes_list=tf.train.BytesList(value=[value]))\n",
    "\n",
    "def convert_to_TFRecord(images, labels, filename):\n",
    "    n_samples = len(labels)\n",
    "    TFWriter = tf.python_io.TFRecordWriter(filename)\n",
    "\n",
    "    print('\\nTransform start...')\n",
    "    for i in np.arange(0, n_samples):\n",
    "        try:\n",
    "            image = cv2.imread(images[i])\n",
    "            image = cv2.cvtColor(image,cv2.COLOR_BGR2RGB)\n",
    "            height,width,channel = image.shape\n",
    "            image = cv2.resize(image,(224,224))\n",
    "            \n",
    "            if image is None:\n",
    "                print('Error image:' + images[i])\n",
    "            else:\n",
    "                image_raw = image.tostring()\n",
    "\n",
    "            label = int(labels[i])\n",
    "            \n",
    "            # 將 tf.train.Feature 合併成 tf.train.Features\n",
    "            ftrs = tf.train.Features(\n",
    "                    feature={'Label': int64_feature(label),\n",
    "                             'image_raw': bytes_feature(image_raw),\n",
    "                             'channel':int64_feature(channel),\n",
    "                             'width':int64_feature(width),\n",
    "                             'height':int64_feature(height)}\n",
    "                   )\n",
    "        \n",
    "            # 將 tf.train.Features 轉成 tf.train.Example\n",
    "            example = tf.train.Example(features=ftrs)\n",
    "\n",
    "            # 將 tf.train.Example 寫成 tfRecord 格式\n",
    "            TFWriter.write(example.SerializeToString())\n",
    "        except IOError as e:\n",
    "            print('Skip!\\n')\n",
    "\n",
    "    TFWriter.close()\n",
    "    print('Transform done!')"
   ]
  },
  {
   "cell_type": "code",
   "execution_count": 5,
   "metadata": {},
   "outputs": [
    {
     "name": "stdout",
     "output_type": "stream",
     "text": [
      "\n",
      "Transform start...\n",
      "Transform done!\n"
     ]
    }
   ],
   "source": [
    "convert_to_TFRecord(image_list, label_list, './data/Train2.tfrecords')"
   ]
  },
  {
   "cell_type": "code",
   "execution_count": null,
   "metadata": {},
   "outputs": [],
   "source": []
  }
 ],
 "metadata": {
  "kernelspec": {
   "display_name": "Python 3",
   "language": "python",
   "name": "python3"
  },
  "language_info": {
   "codemirror_mode": {
    "name": "ipython",
    "version": 3
   },
   "file_extension": ".py",
   "mimetype": "text/x-python",
   "name": "python",
   "nbconvert_exporter": "python",
   "pygments_lexer": "ipython3",
   "version": "3.6.6"
  }
 },
 "nbformat": 4,
 "nbformat_minor": 2
}
