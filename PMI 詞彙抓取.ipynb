{
 "cells": [
  {
   "cell_type": "markdown",
   "metadata": {},
   "source": [
    "# 自己建立Jieba"
   ]
  },
  {
   "cell_type": "code",
   "execution_count": 1,
   "metadata": {},
   "outputs": [],
   "source": [
    "import re\n",
    "dict_word = {\"哈利\":2,\"波特\":2,\"哈利波特\":4,\"妙麗\":2,\"鄧布利多\":4,\"榮恩\":2,\"抽菸\":2,\"騎掃把\":3,\"魔法師\":3,\"中二\":2,\"妙麗\":2,\"君不見\":3}\n",
    "split_word = [\"。\",\"，\",\" \",\"#\",\"+\"]"
   ]
  },
  {
   "cell_type": "code",
   "execution_count": 2,
   "metadata": {},
   "outputs": [
    {
     "name": "stdout",
     "output_type": "stream",
     "text": [
      "人家都說，單身三十年就能變成魔法師。 本肥宅臥薪嚐膽二十年，才驚覺，別傻了，魯這麼久，霍格華茲都不好意思笑你。 君不見，中二哈利還在幻想自己可以跟蛇說話的時候，榮恩都已經跟妙麗接吻了。 鄧布利多那個雞巴老頭，今天我是尊重你，沒了尊重其實你什麼都不是。#有輸過沒怕過#我沒有很可以，但你惹不起。 坐騎火閃電，無照，額頭有刺青，有抽菸，有改管，單身可約，真心不騙。#騎掃把+1 #有刺青+2 #霍格華茲最速傳說，不服來辯。 後來哈利變成英雄，葛萊芬多加十分。榮恩娶走妙麗，人生滿分。\n"
     ]
    }
   ],
   "source": [
    "words = \"人家都說，單身三十年就能變成魔法師。 本肥宅臥薪嚐膽二十年，才驚覺，別傻了，魯這麼久，霍格華茲都不好意思笑你。 \\\n",
    "君不見，中二哈利還在幻想自己可以跟蛇說話的時候，榮恩都已經跟妙麗接吻了。 鄧布利多那個雞巴老頭，今天我是尊重你，沒了尊重其實你什麼都不是。#有輸過沒怕過\\\n",
    "#我沒有很可以，但你惹不起。 坐騎火閃電，無照，額頭有刺青，有抽菸，有改管，單身可約，真心不騙。#騎掃把+1 #有刺青+2 #霍格華茲最速傳說，不服來辯。 \\\n",
    "後來哈利變成英雄，葛萊芬多加十分。榮恩娶走妙麗，人生滿分。\"\n",
    "print(words)"
   ]
  },
  {
   "cell_type": "code",
   "execution_count": 3,
   "metadata": {},
   "outputs": [],
   "source": [
    "splited_list = re.split(str(split_word),words)\n",
    "ans = []\n",
    "for oneLine in splited_list:\n",
    "    front = 0\n",
    "    end = len(oneLine)\n",
    "    for ind in oneLine:\n",
    "        for ind2 in oneLine[front:end]:\n",
    "            if(oneLine[front:end] in dict_word or len(oneLine[front:end])<2):\n",
    "                ans.append(oneLine[front:end])\n",
    "                front = end\n",
    "                end = len(oneLine)\n",
    "            else:\n",
    "                end = end-1"
   ]
  },
  {
   "cell_type": "code",
   "execution_count": 4,
   "metadata": {},
   "outputs": [
    {
     "name": "stdout",
     "output_type": "stream",
     "text": [
      "['人', '家', '都', '說', '單', '身', '三', '十', '年', '就', '能', '變', '成', '魔法師', '', '', '本', '肥', '宅', '臥', '薪', '嚐', '膽', '二', '十', '年', '才', '驚', '覺', '別', '傻', '了', '魯', '這', '麼', '久', '霍', '格', '華', '茲', '都', '不', '好', '意', '思', '笑', '你', '君不見', '', '', '中二', '哈利', '還', '在', '幻', '想', '自', '己', '可', '以', '跟', '蛇', '說', '話', '的', '時', '候', '榮恩', '都', '已', '經', '跟', '妙麗', '接', '吻', '了', '鄧布利多', '那', '個', '雞', '巴', '老', '頭', '今', '天', '我', '是', '尊', '重', '你', '沒', '了', '尊', '重', '其', '實', '你', '什', '麼', '都', '不', '是', '有', '輸', '過', '沒', '怕', '過', '我', '沒', '有', '很', '可', '以', '但', '你', '惹', '不', '起', '坐', '騎', '火', '閃', '電', '無', '照', '額', '頭', '有', '刺', '青', '有', '抽菸', '', '有', '改', '管', '單', '身', '可', '約', '真', '心', '不', '騙', '騎掃把', '', '', '1', '有', '刺', '青', '2', '霍', '格', '華', '茲', '最', '速', '傳', '說', '不', '服', '來', '辯', '後', '來', '哈利', '變', '成', '英', '雄', '葛', '萊', '芬', '多', '加', '十', '分', '榮恩', '娶', '走', '妙麗', '', '人', '生', '滿', '分']\n"
     ]
    }
   ],
   "source": [
    "print(ans)"
   ]
  },
  {
   "cell_type": "markdown",
   "metadata": {},
   "source": [
    "# PMI 詞彙 "
   ]
  },
  {
   "cell_type": "code",
   "execution_count": 5,
   "metadata": {},
   "outputs": [],
   "source": [
    "import requests\n",
    "from lxml import etree\n",
    "import re"
   ]
  },
  {
   "cell_type": "code",
   "execution_count": 6,
   "metadata": {},
   "outputs": [],
   "source": [
    "response = requests.get(\"https://www.ptt.cc/bbs/graduate/search?q=%5B%E5%BF%83%E5%BE%97%5D+%E4%B8%AD%E5%B1%B1%E9%9B%BB%E6%A9%9F%E5%B7%B1%E5%BF%83%E5%BE%97%E5%88%86%E4%BA%AB\")\n",
    "html = etree.HTML(response.content)\n",
    "domain = \"https://www.ptt.cc\"\n",
    "Alinks = html.xpath('//div[@class=\"r-ent\"]')\n",
    "Blinks = []\n",
    "for link in Alinks:\n",
    "    if(link.xpath('.//div[@class=\"author\"]/text()')[0] == \"troutday\"):\n",
    "        Blinks.append(domain+link.xpath('.//div[@class=\"title\"]/a/@href')[0])"
   ]
  },
  {
   "cell_type": "code",
   "execution_count": 7,
   "metadata": {},
   "outputs": [],
   "source": [
    "asseys = []\n",
    "for link in Blinks:\n",
    "    response = requests.get(link)\n",
    "    html = etree.HTML(response.content)\n",
    "    assey = html.xpath('.//div[@id=\"main-content\"]/text()')\n",
    "    assey = \"。\".join(assey)\n",
    "    asseys.append(assey.replace(\"\\n\",\"\"))\n",
    "asseys = \"。\".join(asseys)"
   ]
  },
  {
   "cell_type": "code",
   "execution_count": 8,
   "metadata": {},
   "outputs": [
    {
     "name": "stdout",
     "output_type": "stream",
     "text": [
      "想說，不能讓北科專美於前，於是我出現了最近工作有點不太順遂，需要協尋一點。上一集其實算是第三屆進來前的前期提要，這集第三集主角們準備登場。有看過之前文章的，大致都清楚幾乎每天11:30實驗室電話會準時響起，必須動身前往停車場載老師一同吃飯(自從上次未帶安全帽後，每天大家都會互相提醒，以免又給炸彈一個點火的機會)，而吃的東西都是由老師欽點學生們毫無選擇。而那天吃的是學校附近一間鍋貼店，每次吃飯老師一定會堅持大家要坐在一起，絕對不行分開坐，以便增進師生間的感情，因此整群人坐滿兩張4人桌。在上餐之前的空檔，學生們必須想話題不能讓場子冷掉(詳情請見。的棒球事件)。大部分時間都是身為老師眼前第一大紅人的馬謖帶頭發起話題，因此他在研究所學會了許多控場方面的經驗，但據說這也造成他心裡非常大的陰影。有點離題了，回來繼續說下去。那天大家聊到是否有交過女朋友的話題，而在第三屆的學生中，有一位同學沒有交過女朋友的經驗，此位同學我們先稱為Mugo。聽到這話題，老師馬上起了興趣並且不斷地追問Mugo是否有喜歡過的女生，並給了這位學生幾秒的思考時間。正當Mugo同學想回答時，老師突然意想不到地回答了一句。，學生們\n"
     ]
    }
   ],
   "source": [
    "print(asseys[:500])"
   ]
  },
  {
   "cell_type": "code",
   "execution_count": 9,
   "metadata": {},
   "outputs": [
    {
     "name": "stdout",
     "output_type": "stream",
     "text": [
      "中文字符:26297\n"
     ]
    }
   ],
   "source": [
    "r1 = '[a-zA-Z0-9’!\"#$%&\\'()*+,-./:;<=>?@，。?★、…【】《》？“”‘’！[\\\\]^_`{|}~「」:-]+'\n",
    "totalLen = len(re.sub(r1,\"\",asseys))\n",
    "print(\"中文字符:\"+str(totalLen))"
   ]
  },
  {
   "cell_type": "code",
   "execution_count": 10,
   "metadata": {},
   "outputs": [],
   "source": [
    "split_word = [\"。\",\"，\",\" \",\"#\",\"+\",\",\",\"「\",\":\",\"」\",\".\",\"(\",\")\",\"~\",\"!\",\"$\",\"--\",\"?\",\"、\",\"：\"]\n",
    "word_list = re.sub(r\"[a-zA-Z0-9]+\",\"\",asseys) #去除英文數字\n",
    "word_list = re.split(str(split_word),word_list)\n",
    "word_list = [word for word in word_list if(len(word)>0)] #去除空元素"
   ]
  },
  {
   "cell_type": "code",
   "execution_count": 11,
   "metadata": {},
   "outputs": [],
   "source": [
    "import math\n",
    "def onPercent(word):\n",
    "    number = 0\n",
    "    wordLen = len(word)\n",
    "    for i,data in enumerate(asseys):\n",
    "        if(assey[i:i+wordLen] == word):\n",
    "            number = number+1\n",
    "    percent = float(float(number)/float(totalLen))\n",
    "    return percent\n",
    "\n",
    "def joinPerent(wordA,wordB):\n",
    "    joinword = wordA + wordB\n",
    "    percent = onPercent(joinword)\n",
    "    return percent\n",
    "\n",
    "def caculatePercent(wordA,wordB):\n",
    "    mother = onPercent(wordA)*onPercent(wordB)\n",
    "    if(mother ==0): #避免Divide by 0\n",
    "        return 0.0\n",
    "    if(len(wordA+wordB)==2):\n",
    "        percent = math.log(joinPerent(wordA,wordB)/mother+1,10)\n",
    "        return percent\n",
    "    else:\n",
    "        son = wordA[:-1]+wordB #實驗 +驗室\n",
    "        percent = math.log(onPercent(son)/mother+1,10)\n",
    "        return percent"
   ]
  },
  {
   "cell_type": "code",
   "execution_count": 12,
   "metadata": {},
   "outputs": [],
   "source": [
    "word_dict = {}\n",
    "min_value = 1.5\n",
    "for sentence in word_list:\n",
    "    ind = 0\n",
    "    while(ind<len(sentence)-1):\n",
    "        percent = caculatePercent(sentence[ind],sentence[ind+1])\n",
    "        if(percent >min_value):\n",
    "            word = sentence[ind]+sentence[ind+1]\n",
    "            word_dict[word] = word_dict[word] + 1 if word in word_dict else 1\n",
    "        ind+=1"
   ]
  },
  {
   "cell_type": "code",
   "execution_count": 13,
   "metadata": {},
   "outputs": [
    {
     "name": "stdout",
     "output_type": "stream",
     "text": [
      "3.2440626014189164\n",
      "3.2440626014189164\n",
      "3.516948319141234\n"
     ]
    }
   ],
   "source": [
    "print(caculatePercent(\"老師\",\"師也\"))\n",
    "print(caculatePercent(\"驗室\",\"室每\"))\n",
    "print(caculatePercent(\"夏\",\"天\"))"
   ]
  },
  {
   "cell_type": "code",
   "execution_count": 14,
   "metadata": {},
   "outputs": [
    {
     "name": "stdout",
     "output_type": "stream",
     "text": [
      "['老師', '大家', '學生', '實驗', '驗室', '沒有', '虎將', '自己', '四虎', '一個', '並且', '開始', '因為', '事情', '這樣', '導生', '因此', '研究', '可以', '報告', '希望', '一下', '但是', '時間', '在這', '真的', '不是', '已經', '離開', '知道', '不要', '了一', '這些', '教授', '要求', '無法', '這時', '有一', '之後', '中山', '需要', '每天', '必須', '第一', '據說', '也不', '都是', '好好', '各位', '故事', '今天', '就是', '的學', '到了', '所以', '我不', '覺得', '還是', '請大', '一位', '一次', '出來', '可能', '看到', '學校', '一起', '非常', '後來', '己的', '謝謝', '而這', '時候', '怎麼', '出去', '將們', '大學', '不能', '不斷', '的時', '應該', '讓我', '甚至', '到老', '來的', '如果', '這種', '師也', '是一', '討論', '室的', '不想', '注意', '態度', '有點', '的話', '這位', '位學', '次的', '的同', '系上']\n"
     ]
    }
   ],
   "source": [
    "X = sorted(word_dict.items(), key=lambda kv: kv[1],reverse=True)\n",
    "last_word = [x[0]for x in X]\n",
    "print(last_word[:100])"
   ]
  }
 ],
 "metadata": {
  "kernelspec": {
   "display_name": "Python 3",
   "language": "python",
   "name": "python3"
  },
  "language_info": {
   "codemirror_mode": {
    "name": "ipython",
    "version": 3
   },
   "file_extension": ".py",
   "mimetype": "text/x-python",
   "name": "python",
   "nbconvert_exporter": "python",
   "pygments_lexer": "ipython3",
   "version": "3.6.6"
  }
 },
 "nbformat": 4,
 "nbformat_minor": 2
}
