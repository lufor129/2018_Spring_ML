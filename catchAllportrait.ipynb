{
 "cells": [
  {
   "cell_type": "code",
   "execution_count": 1,
   "metadata": {},
   "outputs": [],
   "source": [
    "import requests\n",
    "from selenium import webdriver\n",
    "from time import sleep\n",
    "headers ={\n",
    "    \"User-Agent\":\"Mozilla/5.0 (X11; Linux x86_64) AppleWebKit/537.36 (KHTML, like Gecko) Chrome/51.0.2704.103 Safari/537.36\",\n",
    "}"
   ]
  },
  {
   "cell_type": "code",
   "execution_count": 2,
   "metadata": {},
   "outputs": [
    {
     "name": "stdout",
     "output_type": "stream",
     "text": [
      "901\n"
     ]
    }
   ],
   "source": [
    "driver = webdriver.Chrome()\n",
    "driver.get(\"https://artsandculture.google.com/entity/m01dv4h?fbclid=IwAR3UxZZaa1oYzTQP8UCOtrdY4XPR9hUIbKHrPCvPl4FndMljCwp1Fk1RBss\")\n",
    "sleep(3) #不加等待時間容易誤觸\n",
    "for i in range(0,180):\n",
    "    driver.find_element_by_xpath('//div[contains(@class,\"CMCEae\")]').click()\n",
    "    sleep(0.2)\n",
    "continue_link = driver.find_elements_by_xpath('//div[@class=\"wcg9yf\"]//a')\n",
    "print(len(continue_link))"
   ]
  },
  {
   "cell_type": "code",
   "execution_count": 3,
   "metadata": {},
   "outputs": [],
   "source": [
    "import csv\n",
    "with open('output.csv', 'w', newline='',encoding=\"utf8\") as csvfile:\n",
    "    writer = csv.writer(csvfile)\n",
    "    for index,element in enumerate(continue_link):\n",
    "        name = element.get_attribute(\"title\")\n",
    "        href = element.get_attribute(\"href\")\n",
    "        writer.writerow([index,name,href])"
   ]
  },
  {
   "cell_type": "code",
   "execution_count": null,
   "metadata": {},
   "outputs": [],
   "source": []
  }
 ],
 "metadata": {
  "kernelspec": {
   "display_name": "Python 3",
   "language": "python",
   "name": "python3"
  },
  "language_info": {
   "codemirror_mode": {
    "name": "ipython",
    "version": 3
   },
   "file_extension": ".py",
   "mimetype": "text/x-python",
   "name": "python",
   "nbconvert_exporter": "python",
   "pygments_lexer": "ipython3",
   "version": "3.6.6"
  }
 },
 "nbformat": 4,
 "nbformat_minor": 2
}
